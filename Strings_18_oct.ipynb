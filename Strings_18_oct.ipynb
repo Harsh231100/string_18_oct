{
 "cells": [
  {
   "cell_type": "markdown",
   "id": "57ba9ff0",
   "metadata": {},
   "source": [
    "# Python 18/10/2023 - Daily Task"
   ]
  },
  {
   "cell_type": "markdown",
   "id": "1b4c0abc",
   "metadata": {},
   "source": [
    "# 1. Mandatory Task"
   ]
  },
  {
   "cell_type": "markdown",
   "id": "67e07680",
   "metadata": {},
   "source": [
    "## a) Document today’s class with proper explanation using markdown, comments, examples and code."
   ]
  },
  {
   "cell_type": "markdown",
   "id": "ea310926",
   "metadata": {},
   "source": [
    "### Classes"
   ]
  },
  {
   "cell_type": "markdown",
   "id": "ecf292ed",
   "metadata": {},
   "source": [
    "* Blue print of the objects."
   ]
  },
  {
   "cell_type": "code",
   "execution_count": 1,
   "id": "f29fda2e",
   "metadata": {},
   "outputs": [
    {
     "name": "stdout",
     "output_type": "stream",
     "text": [
      "python <class 'str'>\n"
     ]
    }
   ],
   "source": [
    "x = 'python'\n",
    "print(x, type(x))"
   ]
  },
  {
   "cell_type": "code",
   "execution_count": 2,
   "id": "5d1fab18",
   "metadata": {},
   "outputs": [
    {
     "name": "stdout",
     "output_type": "stream",
     "text": [
      "['__add__', '__class__', '__contains__', '__delattr__', '__dir__', '__doc__', '__eq__', '__format__', '__ge__', '__getattribute__', '__getitem__', '__getnewargs__', '__getstate__', '__gt__', '__hash__', '__init__', '__init_subclass__', '__iter__', '__le__', '__len__', '__lt__', '__mod__', '__mul__', '__ne__', '__new__', '__reduce__', '__reduce_ex__', '__repr__', '__rmod__', '__rmul__', '__setattr__', '__sizeof__', '__str__', '__subclasshook__', 'capitalize', 'casefold', 'center', 'count', 'encode', 'endswith', 'expandtabs', 'find', 'format', 'format_map', 'index', 'isalnum', 'isalpha', 'isascii', 'isdecimal', 'isdigit', 'isidentifier', 'islower', 'isnumeric', 'isprintable', 'isspace', 'istitle', 'isupper', 'join', 'ljust', 'lower', 'lstrip', 'maketrans', 'partition', 'removeprefix', 'removesuffix', 'replace', 'rfind', 'rindex', 'rjust', 'rpartition', 'rsplit', 'rstrip', 'split', 'splitlines', 'startswith', 'strip', 'swapcase', 'title', 'translate', 'upper', 'zfill']\n"
     ]
    }
   ],
   "source": [
    "print(dir(x))"
   ]
  },
  {
   "cell_type": "markdown",
   "id": "77121b53",
   "metadata": {},
   "source": [
    "### String Methods"
   ]
  },
  {
   "cell_type": "markdown",
   "id": "2c513203",
   "metadata": {},
   "source": [
    "* Strings are **`Immutable`**, the resulting string methods have a new memory location.\n",
    "\n",
    "* In order to use these strings, we need re-assign it to a variable."
   ]
  },
  {
   "cell_type": "markdown",
   "id": "2266f05d",
   "metadata": {},
   "source": [
    "#### upper()"
   ]
  },
  {
   "cell_type": "markdown",
   "id": "59521e35",
   "metadata": {},
   "source": [
    "* This upper() method changes all the characters in a string to capital letters."
   ]
  },
  {
   "cell_type": "code",
   "execution_count": 4,
   "id": "437ce5d2",
   "metadata": {},
   "outputs": [
    {
     "name": "stdout",
     "output_type": "stream",
     "text": [
      "PYTHON\n"
     ]
    }
   ],
   "source": [
    "x = 'python'\n",
    "y = x.upper()\n",
    "print(y)"
   ]
  },
  {
   "cell_type": "code",
   "execution_count": 8,
   "id": "cba99937",
   "metadata": {},
   "outputs": [
    {
     "name": "stdout",
     "output_type": "stream",
     "text": [
      "MY NAME IS HARSH\n"
     ]
    }
   ],
   "source": [
    "x = \"my name is harsh\"\n",
    "\n",
    "y = x.upper()\n",
    "print(y)"
   ]
  },
  {
   "cell_type": "code",
   "execution_count": 6,
   "id": "ba13e0fc",
   "metadata": {},
   "outputs": [
    {
     "name": "stdout",
     "output_type": "stream",
     "text": [
      "Peter Piper picked a peck of pickled peppers.\n",
      "A peck of pickled peppers Peter Piper picked.\n",
      "If Peter Piper picked a peck of pickled peppers,\n",
      "Where’s the peck of pickled peppers Peter Piper picked? \n",
      "\n",
      "PETER PIPER PICKED A PECK OF PICKLED PEPPERS.\n",
      "A PECK OF PICKLED PEPPERS PETER PIPER PICKED.\n",
      "IF PETER PIPER PICKED A PECK OF PICKLED PEPPERS,\n",
      "WHERE’S THE PECK OF PICKLED PEPPERS PETER PIPER PICKED?\n"
     ]
    }
   ],
   "source": [
    "x = '''Peter Piper picked a peck of pickled peppers.\n",
    "A peck of pickled peppers Peter Piper picked.\n",
    "If Peter Piper picked a peck of pickled peppers,\n",
    "Where’s the peck of pickled peppers Peter Piper picked?'''\n",
    "\n",
    "print(x,'\\n')\n",
    "print(x.upper())"
   ]
  },
  {
   "cell_type": "markdown",
   "id": "6fabd788",
   "metadata": {},
   "source": [
    "#### lower()"
   ]
  },
  {
   "cell_type": "markdown",
   "id": "abb8bdee",
   "metadata": {},
   "source": [
    "* This lower() method changes all the characters in a string to small letters."
   ]
  },
  {
   "cell_type": "code",
   "execution_count": 7,
   "id": "edd22af3",
   "metadata": {},
   "outputs": [
    {
     "name": "stdout",
     "output_type": "stream",
     "text": [
      "python\n"
     ]
    }
   ],
   "source": [
    "x = 'PYTHON'\n",
    "y = x.lower()\n",
    "print(y)"
   ]
  },
  {
   "cell_type": "code",
   "execution_count": 9,
   "id": "0de5c870",
   "metadata": {},
   "outputs": [
    {
     "name": "stdout",
     "output_type": "stream",
     "text": [
      "my name is harsh\n"
     ]
    }
   ],
   "source": [
    "x = \"MY NAME IS HARSH\"\n",
    "y = x.lower()\n",
    "print(y)"
   ]
  },
  {
   "cell_type": "code",
   "execution_count": 10,
   "id": "00a6a287",
   "metadata": {
    "scrolled": true
   },
   "outputs": [
    {
     "name": "stdout",
     "output_type": "stream",
     "text": [
      "peter piper picked a peck of pickled peppers.\n",
      "a peck of pickled peppers peter piper picked.\n",
      "if peter piper picked a peck of pickled peppers,\n",
      "where’s the peck of pickled peppers peter piper picked?\n"
     ]
    }
   ],
   "source": [
    "x = '''PETER PIPER PICKED A PECK OF PICKLED PEPPERS.\n",
    "A PECK OF PICKLED PEPPERS PETER PIPER PICKED.\n",
    "IF PETER PIPER PICKED A PECK OF PICKLED PEPPERS,\n",
    "WHERE’S THE PECK OF PICKLED PEPPERS PETER PIPER PICKED?'''\n",
    "\n",
    "y = x.lower()\n",
    "print(y)"
   ]
  },
  {
   "cell_type": "markdown",
   "id": "2f25c037",
   "metadata": {},
   "source": [
    "#### capitalize()"
   ]
  },
  {
   "cell_type": "markdown",
   "id": "23844680",
   "metadata": {},
   "source": [
    "* This capitalize() method changes first alphabet will be convert into capital letter."
   ]
  },
  {
   "cell_type": "code",
   "execution_count": 11,
   "id": "8eaf1bb6",
   "metadata": {},
   "outputs": [
    {
     "name": "stdout",
     "output_type": "stream",
     "text": [
      "Python\n"
     ]
    }
   ],
   "source": [
    "x = 'PYTHON'\n",
    "y = x.capitalize()\n",
    "print(y)"
   ]
  },
  {
   "cell_type": "code",
   "execution_count": 12,
   "id": "6dc06dc7",
   "metadata": {},
   "outputs": [
    {
     "name": "stdout",
     "output_type": "stream",
     "text": [
      "My name is harsh\n"
     ]
    }
   ],
   "source": [
    "x = \"MY NAME IS HARSH\"\n",
    "y = x.capitalize()\n",
    "print(y)"
   ]
  },
  {
   "cell_type": "code",
   "execution_count": 13,
   "id": "c6e677fa",
   "metadata": {},
   "outputs": [
    {
     "name": "stdout",
     "output_type": "stream",
     "text": [
      "Peter piper picked a peck of pickled peppers.\n",
      "a peck of pickled peppers peter piper picked.\n",
      "if peter piper picked a peck of pickled peppers,\n",
      "where’s the peck of pickled peppers peter piper picked?\n"
     ]
    }
   ],
   "source": [
    "x = '''PETER PIPER PICKED A PECK OF PICKLED PEPPERS.\n",
    "A PECK OF PICKLED PEPPERS PETER PIPER PICKED.\n",
    "IF PETER PIPER PICKED A PECK OF PICKLED PEPPERS,\n",
    "WHERE’S THE PECK OF PICKLED PEPPERS PETER PIPER PICKED?'''\n",
    "\n",
    "y = x.capitalize()\n",
    "print(y)"
   ]
  },
  {
   "cell_type": "markdown",
   "id": "7ed718b3",
   "metadata": {},
   "source": [
    "#### title()"
   ]
  },
  {
   "cell_type": "markdown",
   "id": "1510921a",
   "metadata": {},
   "source": [
    "* This title() method changes first alphabet of every word will convert into capital letter."
   ]
  },
  {
   "cell_type": "code",
   "execution_count": 15,
   "id": "ce26d04b",
   "metadata": {},
   "outputs": [
    {
     "name": "stdout",
     "output_type": "stream",
     "text": [
      "My Name Is Harsh\n"
     ]
    }
   ],
   "source": [
    "x = \"my name is harsh\"\n",
    "\n",
    "y = x.title()\n",
    "print(y)"
   ]
  },
  {
   "cell_type": "code",
   "execution_count": 16,
   "id": "ba3af57c",
   "metadata": {},
   "outputs": [
    {
     "name": "stdout",
     "output_type": "stream",
     "text": [
      "Peter Piper Picked A Peck Of Pickled Peppers.\n",
      "A Peck Of Pickled Peppers Peter Piper Picked.\n",
      "If Peter Piper Picked A Peck Of Pickled Peppers,\n",
      "Where’S The Peck Of Pickled Peppers Peter Piper Picked?\n"
     ]
    }
   ],
   "source": [
    "x = '''peter piper picked a peck of pickled peppers.\n",
    "a peck of pickled peppers peter piper picked.\n",
    "if peter piper picked a peck of pickled peppers,\n",
    "where’s the peck of pickled peppers peter piper picked?'''\n",
    "\n",
    "print(x.title())"
   ]
  },
  {
   "cell_type": "markdown",
   "id": "857b3195",
   "metadata": {},
   "source": [
    "#### swapcase()"
   ]
  },
  {
   "cell_type": "markdown",
   "id": "323adb5e",
   "metadata": {},
   "source": [
    "* This swapcase() method changes capital letters to small letters and small letters to capital letters."
   ]
  },
  {
   "cell_type": "code",
   "execution_count": 18,
   "id": "f6303798",
   "metadata": {},
   "outputs": [
    {
     "name": "stdout",
     "output_type": "stream",
     "text": [
      "mY nAME iS hARSH\n"
     ]
    }
   ],
   "source": [
    "x = \"My Name Is Harsh\"\n",
    "\n",
    "y = x.swapcase()\n",
    "print(y)"
   ]
  },
  {
   "cell_type": "code",
   "execution_count": 19,
   "id": "51712589",
   "metadata": {},
   "outputs": [
    {
     "name": "stdout",
     "output_type": "stream",
     "text": [
      "pETER pIPER pICKED a pECK oF pICKLED pEPPERS.\n",
      "a pECK oF pICKLED pEPPERS pETER pIPER pICKED.\n",
      "iF pETER pIPER pICKED a pECK oF pICKLED pEPPERS,\n",
      "wHERE’s tHE pECK oF pICKLED pEPPERS pETER pIPER pICKED?\n"
     ]
    }
   ],
   "source": [
    "x = '''Peter Piper Picked A Peck Of Pickled Peppers.\n",
    "A Peck Of Pickled Peppers Peter Piper Picked.\n",
    "If Peter Piper Picked A Peck Of Pickled Peppers,\n",
    "Where’S The Peck Of Pickled Peppers Peter Piper Picked?'''\n",
    "\n",
    "print(x.swapcase())"
   ]
  },
  {
   "cell_type": "markdown",
   "id": "7f12387a",
   "metadata": {},
   "source": [
    "#### casefold()"
   ]
  },
  {
   "cell_type": "markdown",
   "id": "3b8bf743",
   "metadata": {},
   "source": [
    "* The casefold() method returns a string where all the characters are lower case.\n",
    "\n",
    "* This method is similar to the lower() method, but the casefold() method is stronger, more aggressive, meaning that it will convert more characters into lower case, and will find more matches when comparing two strings and both are converted using the casefold() method."
   ]
  },
  {
   "cell_type": "code",
   "execution_count": 21,
   "id": "cdf73ceb",
   "metadata": {},
   "outputs": [
    {
     "name": "stdout",
     "output_type": "stream",
     "text": [
      "straße\n",
      "strasse\n"
     ]
    }
   ],
   "source": [
    "x = 'Straße'  # German ss is ß\n",
    "\n",
    "y = x.lower()\n",
    "z = x.casefold()\n",
    "\n",
    "print(y)\n",
    "print(z)"
   ]
  },
  {
   "cell_type": "markdown",
   "id": "40ef2220",
   "metadata": {},
   "source": [
    "## b) Explain why strings are Immutable by taking a string method as an example."
   ]
  },
  {
   "cell_type": "markdown",
   "id": "e35f5bd9",
   "metadata": {},
   "source": [
    "* Strings are **`Immutable`**, the resulting string methods have a new memory location."
   ]
  },
  {
   "cell_type": "code",
   "execution_count": 23,
   "id": "c14bf5e6",
   "metadata": {},
   "outputs": [
    {
     "name": "stdout",
     "output_type": "stream",
     "text": [
      "PYTHON\n"
     ]
    }
   ],
   "source": [
    "x = 'python'\n",
    "y = x.upper()\n",
    "print(y)"
   ]
  },
  {
   "cell_type": "code",
   "execution_count": 24,
   "id": "d4d16a31",
   "metadata": {},
   "outputs": [
    {
     "name": "stdout",
     "output_type": "stream",
     "text": [
      "2511055897584 2511104804464\n"
     ]
    }
   ],
   "source": [
    "print(id(x),id(y))"
   ]
  },
  {
   "cell_type": "markdown",
   "id": "df1049d2",
   "metadata": {},
   "source": [
    "## c) Take a two strings of your choice,\n"
   ]
  },
  {
   "cell_type": "markdown",
   "id": "1e65b7c1",
   "metadata": {},
   "source": [
    "### i) Reverse one string"
   ]
  },
  {
   "cell_type": "markdown",
   "id": "96c12dd6",
   "metadata": {},
   "source": [
    "* In reverse string, we move from right to left and the starting index  is `-1` and the end index is `n`, where `n` is `len of the string`."
   ]
  },
  {
   "cell_type": "code",
   "execution_count": 25,
   "id": "c47e5093",
   "metadata": {},
   "outputs": [
    {
     "name": "stdout",
     "output_type": "stream",
     "text": [
      "gnimmargorP\n"
     ]
    }
   ],
   "source": [
    "x = 'Python'\n",
    "y = 'Programming'\n",
    "\n",
    "z = y[::-1]\n",
    "print(z)"
   ]
  },
  {
   "cell_type": "markdown",
   "id": "04fdfc0b",
   "metadata": {},
   "source": [
    "### ii) Concatenate these two strings\n"
   ]
  },
  {
   "cell_type": "markdown",
   "id": "acb8939a",
   "metadata": {},
   "source": [
    "* String Concatenation is the technique of combining two strings. It’s very easy to use the '+' operator for string concatenation. This operator can be used to add multiple strings together."
   ]
  },
  {
   "cell_type": "code",
   "execution_count": 26,
   "id": "52c90a52",
   "metadata": {},
   "outputs": [
    {
     "name": "stdout",
     "output_type": "stream",
     "text": [
      "PythonProgramming\n"
     ]
    }
   ],
   "source": [
    "x = 'Python'\n",
    "y = 'Programming'\n",
    "\n",
    "z = x+y\n",
    "\n",
    "print(z)"
   ]
  },
  {
   "cell_type": "markdown",
   "id": "83503c6c",
   "metadata": {},
   "source": [
    "### iii) Get the alternate chars of the concatenate string in reverse order.\n"
   ]
  },
  {
   "cell_type": "markdown",
   "id": "ad00580a",
   "metadata": {},
   "source": [
    "* String Concatenation is the technique of combining two strings. It’s very easy to use the '+' operator for string concatenation.\n",
    "\n",
    "* To get alternative values to that string we use step_size value as -2 then we get the required alternate chars of the concatenate string in reverse order."
   ]
  },
  {
   "cell_type": "code",
   "execution_count": 27,
   "id": "8c07af0a",
   "metadata": {},
   "outputs": [
    {
     "name": "stdout",
     "output_type": "stream",
     "text": [
      "gimroPotP\n"
     ]
    }
   ],
   "source": [
    "x = 'Python'\n",
    "y = 'Programming'\n",
    "\n",
    "z = x+y\n",
    "a = z[::-2]\n",
    "\n",
    "print(a)"
   ]
  },
  {
   "cell_type": "code",
   "execution_count": null,
   "id": "ace2b133",
   "metadata": {},
   "outputs": [],
   "source": []
  }
 ],
 "metadata": {
  "kernelspec": {
   "display_name": "Python 3 (ipykernel)",
   "language": "python",
   "name": "python3"
  },
  "language_info": {
   "codemirror_mode": {
    "name": "ipython",
    "version": 3
   },
   "file_extension": ".py",
   "mimetype": "text/x-python",
   "name": "python",
   "nbconvert_exporter": "python",
   "pygments_lexer": "ipython3",
   "version": "3.11.5"
  }
 },
 "nbformat": 4,
 "nbformat_minor": 5
}
